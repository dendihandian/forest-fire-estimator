version https://git-lfs.github.com/spec/v1
oid sha256:ce2c35ab8346fa1fe2ebe1be60cd00e4b8d4a42a2a2236ffc8e7e5304680f7a7
size 1400610
