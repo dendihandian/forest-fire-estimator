version https://git-lfs.github.com/spec/v1
oid sha256:e417c38ba96bdde2045aae16b3f083f3bed673dac194cac75b9392d62350c48a
size 87275
