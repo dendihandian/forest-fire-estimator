version https://git-lfs.github.com/spec/v1
oid sha256:5e5a44178f074f465f7bc4d948ce0c70ce74573704c485c217310b5fa451f5f8
size 44911
